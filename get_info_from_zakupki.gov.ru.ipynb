{
 "cells": [
  {
   "cell_type": "markdown",
   "metadata": {},
   "source": [
    "Импортирую библиотеки"
   ]
  },
  {
   "cell_type": "code",
   "execution_count": null,
   "metadata": {},
   "outputs": [],
   "source": [
    "import requests\n",
    "from lxml import html\n",
    "from bs4 import BeautifulSoup\n",
    "import pandas as pd"
   ]
  },
  {
   "cell_type": "markdown",
   "metadata": {},
   "source": [
    "Пишу ИНН нужной компании поставщика"
   ]
  },
  {
   "cell_type": "code",
   "execution_count": null,
   "metadata": {},
   "outputs": [],
   "source": [
    "LAW = 'fz44'\n",
    "\n",
    "# в поле INN нужно ввести 10-значный номер ИНН\n",
    "\n",
    "INN = ##############\n",
    "NUMBER_OF_RESULTS = '100'"
   ]
  },
  {
   "cell_type": "markdown",
   "metadata": {},
   "source": [
    "Выбираю закон"
   ]
  },
  {
   "cell_type": "code",
   "execution_count": null,
   "metadata": {},
   "outputs": [],
   "source": [
    "# 44-ФЗ\n",
    "\n",
    "All_contracts = 'https://zakupki.gov.ru/epz/contract/search/results.html?morphology=on\\\n",
    "&'+ LAW + '=on&contractStageList_0=on&contractStageList_1=on&contractStageList_2=on&contractStageList_3=on\\\n",
    "&contractStageList=0%2C1%2C2%2C3&contractPriceFrom=0&contractPriceTo=200000000000&contractCurrencyID=-1\\\n",
    "&budgetaryFunds=on&extraBudgetaryFunds=on&customerPlaceWithNested=on&selectedContractDataChanges=ANY\\\n",
    "&supplierTitle=' + INN + '&countryRegIdsWithNested=on&classifiersMpGroupId=0&sortBy=PO_DATE_OBNOVLENIJA\\\n",
    "&pageNumber=1&sortDirection=false&recordsPerPage=_' + NUMBER_OF_RESULTS\n",
    "\n",
    "# 223-ФЗ\n",
    "\n",
    "# All_contracts = 'https://zakupki.gov.ru/epz/contractfz223/search/results.html?morphology=on\\\n",
    "# &search-filter=%D0%94%D0%B0%D1%82%D0%B5+%D1%80%D0%B0%D0%B7%D0%BC%D0%B5%D1%89%D0%B5%D0%BD%D0%B8%D1%8F&hiddenFz223=true\\\n",
    "# &supplierTitle=' + INN +'&sortBy=BY_UPDATE_DATE&pageNumber=1&sortDirection=false&recordsPerPage=_' + NUMBER_OF_RESULTS"
   ]
  },
  {
   "cell_type": "markdown",
   "metadata": {},
   "source": [
    "Запрашиваю данные из ссылки выше"
   ]
  },
  {
   "cell_type": "code",
   "execution_count": null,
   "metadata": {},
   "outputs": [],
   "source": [
    "page = requests.get(All_contracts).content\n",
    "html_tree = html.fromstring(page.decode(\"utf-8\", \"replace\"))\n",
    "soup = BeautifulSoup(page, 'html.parser')"
   ]
  },
  {
   "cell_type": "markdown",
   "metadata": {},
   "source": [
    "Создаю список из номеров контрактов выбранного поставщика"
   ]
  },
  {
   "cell_type": "code",
   "execution_count": null,
   "metadata": {},
   "outputs": [],
   "source": [
    "contracts_id = []\n",
    "divs = soup.find_all('div', attrs={'class': 'registry-entry__header-mid__number'})\n",
    "for div in divs:\n",
    "    contracts_id.append(div.text.strip().replace('№ ', ''))\n"
   ]
  },
  {
   "cell_type": "markdown",
   "metadata": {},
   "source": [
    "По каждому номеру из списка выше собираю все возможные данные с zakupki.gov.ru"
   ]
  },
  {
   "cell_type": "code",
   "execution_count": null,
   "metadata": {},
   "outputs": [],
   "source": [
    "all_data = {}\n",
    "for number, contract_id in enumerate(contracts_id):\n",
    "    page = requests.get('https://zakupki.gov.ru/epz/contract/contractCard/common-info.html?reestrNumber=' + contract_id).content\n",
    "    html_tree = html.fromstring(page.decode(\"utf-8\", \"replace\"))\n",
    "\n",
    "    items_list = html_tree.xpath(\"//div[@class='blockInfo__section']\")\n",
    "\n",
    "    soup = BeautifulSoup(page, 'html.parser')\n",
    "\n",
    "    divs = soup.find_all('section', attrs={'class': 'blockInfo__section section'})\n",
    "\n",
    "    data = {}\n",
    "    div_length = len(divs)\n",
    "    for i in range(div_length):\n",
    "        text = divs[i].find('span', attrs={'class': 'section__title'}).text.replace('\\xa0', ' ').replace('\\r\\n', '').replace('  ', ' ')\n",
    "        value = divs[i].find('span', attrs={'class': 'section__info'}).text.strip().replace('\\xa0', ' ').replace('\\r\\n', '').replace('  ', ' ')\n",
    "        data.update({text:value})\n",
    "    all_data.update({number + 1:data})"
   ]
  },
  {
   "cell_type": "markdown",
   "metadata": {},
   "source": [
    "Перевожу собранные данные в DataFrame"
   ]
  },
  {
   "cell_type": "code",
   "execution_count": null,
   "metadata": {
    "scrolled": false
   },
   "outputs": [],
   "source": [
    "df = pd.DataFrame(all_data).T"
   ]
  },
  {
   "cell_type": "markdown",
   "metadata": {},
   "source": [
    "Смотрю что получилось"
   ]
  },
  {
   "cell_type": "code",
   "execution_count": null,
   "metadata": {},
   "outputs": [],
   "source": [
    "df"
   ]
  },
  {
   "cell_type": "markdown",
   "metadata": {},
   "source": [
    "Выбираю нужные заголовки"
   ]
  },
  {
   "cell_type": "code",
   "execution_count": null,
   "metadata": {},
   "outputs": [],
   "source": [
    "df_current = df[['Сокращенное наименование заказчика', \n",
    "    'Номер контракта', \n",
    "    'Дата заключения контракта',\n",
    "    'Дата начала исполнения контракта',\n",
    "    'Дата окончания исполнения контракта',\n",
    "    'Предмет контракта',\n",
    "    'Цена контракта'\n",
    "   ]]"
   ]
  },
  {
   "cell_type": "markdown",
   "metadata": {},
   "source": [
    "Смотрю на итоговый результат"
   ]
  },
  {
   "cell_type": "code",
   "execution_count": null,
   "metadata": {},
   "outputs": [],
   "source": [
    "df_current"
   ]
  },
  {
   "cell_type": "markdown",
   "metadata": {},
   "source": [
    "Сохраняю в Excel"
   ]
  },
  {
   "cell_type": "code",
   "execution_count": null,
   "metadata": {},
   "outputs": [],
   "source": [
    "df_current.to_excel(\"output.xlsx\")"
   ]
  }
 ],
 "metadata": {
  "kernelspec": {
   "display_name": "Python 3",
   "language": "python",
   "name": "python3"
  },
  "language_info": {
   "codemirror_mode": {
    "name": "ipython",
    "version": 3
   },
   "file_extension": ".py",
   "mimetype": "text/x-python",
   "name": "python",
   "nbconvert_exporter": "python",
   "pygments_lexer": "ipython3",
   "version": "3.7.4"
  }
 },
 "nbformat": 4,
 "nbformat_minor": 2
}
